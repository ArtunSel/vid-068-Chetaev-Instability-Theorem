import numpy as np
import matplotlib.pyplot as plt
import sympy as sp
# Define symbolic variables
x1, x2 = sp.symbols('x1 x2')
# Define the dynamics
x1_dot = -x1 + x2**6
x2_dot = x2**3 + x1**6
# Define V and compute its gradient
V = (x1 + x2)**2 + x2**2
gradV = sp.Matrix([V]).jacobian([x1, x2])
# Calculate V_dot
V_dot = gradV[0] * x1_dot + gradV[1] * x2_dot
# ===========================================
# Define the range for x1 and x2
x1_min, x1_max, x2_min, x2_max = -0.1, 0.1, -0.1, 0.1
# Generate mesh grid for the ranges of x1 and x2
x1_grid, x2_grid = np.meshgrid(np.linspace(x1_min, x1_max, 200), np.linspace(x2_min, x2_max, 200))
# Evaluate V_dot on the mesh grid
Vdot = sp.lambdify((x1, x2), V_dot)(x1_grid, x2_grid)
# Flatten arrays for plotting
x1_flat = x1_grid.flatten()
x2_flat = x2_grid.flatten()
Vdot_flat = Vdot.flatten()
# Create figure and plot
fig, ax = plt.subplots()
ax.scatter(x1_flat[Vdot_flat > 0], x2_flat[Vdot_flat > 0], color='red', s=1, label='Vdot > 0')
ax.scatter(x1_flat[Vdot_flat < 0], x2_flat[Vdot_flat < 0], color='blue', s=1, label='Vdot < 0')
ax.set_xlabel('x1')
ax.set_ylabel('x2')
ax.set_title('2D Plot of Vdot(x1, x2) with Color Coding')
ax.legend()
ax.grid(True)
ax.axis('equal')
plt.show()